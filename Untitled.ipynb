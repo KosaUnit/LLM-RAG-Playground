{
 "cells": [
  {
   "cell_type": "code",
   "execution_count": 2,
   "id": "d0577078-ffc5-4678-8f35-1c65d5fb7eeb",
   "metadata": {},
   "outputs": [],
   "source": [
    "from llama_index.core.evaluation import CorrectnessEvaluator\n",
    "from llama_index.llms.gemini import Gemini\n",
    "from llama_index.core.llms import ChatMessage\n",
    "from dotenv import load_dotenv\n",
    "import pandas as pd\n",
    "import random\n",
    "import os\n",
    "\n",
    "load_dotenv()\n",
    "\n",
    "GOOGLE_API_KEY = os.getenv(\"GEMINI_API_KEY\")\n",
    "\n",
    "llm = Gemini(\n",
    "    model=\"models/gemini-1.5-flash\",\n",
    "    api_key=GOOGLE_API_KEY  # uses GOOGLE_API_KEY env var by default\n",
    ")\n",
    "\n",
    "evaluator = CorrectnessEvaluator(llm=llm)\n",
    "\n",
    "# Read Data Frame\n",
    "df = pd.read_csv(r'data\\bbc_data.csv')\n",
    "\n",
    "# choose random entity \n",
    "random_index = random.randint(0, len(df))\n",
    "entity = df.iloc[random_index]\n",
    "\n",
    "news = entity.data\n",
    "label = entity.labels"
   ]
  },
  {
   "cell_type": "code",
   "execution_count": 3,
   "id": "2801f761-5b66-43e4-b5bf-3d6fe2e75e0f",
   "metadata": {},
   "outputs": [],
   "source": [
    "from ragas.dataset_schema import  MultiTurnSample, SingleTurnSample\n",
    "from ragas.messages import HumanMessage,AIMessage,ToolMessage,ToolCall\n",
    "from ragas.metrics import AgentGoalAccuracyWithReference\n",
    "\n",
    "entity = df.iloc[4]\n",
    "\n",
    "news = entity.data\n",
    "label = entity.labels\n",
    "\n",
    "messages = [\n",
    "    ChatMessage(\n",
    "        role=\"system\",\n",
    "        content=(\n",
    "            \"You are a text classifier specializing in BBC headlines. \"\n",
    "            \"I will provide you with a headline, and you will classify it into one of the following five categories: \"\n",
    "            \"business, entertainment, politics, sport, or tech. \"\n",
    "            \"Choose the category that best fits the headline. If a headline fits multiple categories, select the one most relevant. \"\n",
    "            \"Provide only the category name as the response, without any additional text.\"\n",
    "        )\n",
    "    )\n",
    "]\n",
    "\n",
    "messages.append(ChatMessage(role=\"user\", content=news))\n",
    "output = str(llm.chat(messages)).replace('\\t','')"
   ]
  },
  {
   "cell_type": "markdown",
   "id": "0fbe2318-380b-4431-baf5-b476bcc33796",
   "metadata": {},
   "source": [
    "## New Stuff"
   ]
  },
  {
   "cell_type": "code",
   "execution_count": 15,
   "id": "9227c3d5-40b7-422a-a76e-f008275fddab",
   "metadata": {},
   "outputs": [],
   "source": [
    "from langchain_google_genai import ChatGoogleGenerativeAI\n",
    "\n",
    "llm = ChatGoogleGenerativeAI(\n",
    "    model=\"gemini-1.5-flash\",\n",
    "    api_key=GOOGLE_API_KEY\n",
    "    # other params...\n",
    ")"
   ]
  },
  {
   "cell_type": "code",
   "execution_count": 24,
   "id": "6a6a049e-a1af-43c3-93ad-b49a470dafa9",
   "metadata": {},
   "outputs": [],
   "source": [
    "from ragas.llms import LangchainLLMWrapper\n",
    "\n",
    "evaluator_llm = LlamaIndexLLMWrapper(llm)"
   ]
  },
  {
   "cell_type": "code",
   "execution_count": null,
   "id": "b304f6f1-6576-4c4e-83bb-7dbe68a152ec",
   "metadata": {},
   "outputs": [],
   "source": [
    "from ragas import SingleTurnSample\n",
    "from ragas.metrics import AspectCritic\n",
    "\n",
    "test_data = {\n",
    "    \"user_input\": \"summarise given text\\nThe company reported an 8% rise in Q3 2024, driven by strong performance in the Asian market. Sales in this region have significantly contributed to the overall growth. Analysts attribute this success to strategic marketing and product localization. The positive trend in the Asian market is expected to continue into the next quarter.\",\n",
    "    \"response\": \"The company experienced an 8% increase in Q3 2024, largely due to effective marketing strategies and product adaptation, with expectations of continued growth in the coming quarter.\",\n",
    "}\n",
    "\n",
    "metric = AspectCritic(name=\"summary_accuracy\",llm=evaluator_llm, definition=\"Verify if the summary is accurate.\")\n",
    "test_data = SingleTurnSample(**test_data)\n",
    "await metric.single_turn_ascore(test_data)"
   ]
  },
  {
   "cell_type": "code",
   "execution_count": 25,
   "id": "f22fceb9-9dfe-4b65-8a97-edfbe8db13cc",
   "metadata": {
    "scrolled": true
   },
   "outputs": [
    {
     "ename": "AttributeError",
     "evalue": "'ChatGoogleGenerativeAI' object has no attribute 'acomplete'",
     "output_type": "error",
     "traceback": [
      "\u001b[1;31m---------------------------------------------------------------------------\u001b[0m",
      "\u001b[1;31mAttributeError\u001b[0m                            Traceback (most recent call last)",
      "Cell \u001b[1;32mIn[25], line 10\u001b[0m\n\u001b[0;32m      8\u001b[0m \u001b[38;5;66;03m# evaluator_llm = LangchainLLMWrapper(ChatOpenAI(model=\"gpt-4o\"))\u001b[39;00m\n\u001b[0;32m      9\u001b[0m metric \u001b[38;5;241m=\u001b[39m AspectCritic(name\u001b[38;5;241m=\u001b[39m\u001b[38;5;124m\"\u001b[39m\u001b[38;5;124msummary_accuracy\u001b[39m\u001b[38;5;124m\"\u001b[39m,llm\u001b[38;5;241m=\u001b[39mevaluator_llm, definition\u001b[38;5;241m=\u001b[39m\u001b[38;5;124m\"\u001b[39m\u001b[38;5;124mVerify if the summary is accurate.\u001b[39m\u001b[38;5;124m\"\u001b[39m)\n\u001b[1;32m---> 10\u001b[0m \u001b[38;5;28;01mawait\u001b[39;00m metric\u001b[38;5;241m.\u001b[39msingle_turn_ascore(SingleTurnSample(\u001b[38;5;241m*\u001b[39m\u001b[38;5;241m*\u001b[39mtest_data))\n",
      "File \u001b[1;32m~\\OneDrive - Accenture\\Desktop\\MyFolder\\Studying\\GenAi\\RAG_Testing\\vEnv\\Lib\\site-packages\\ragas\\metrics\\base.py:502\u001b[0m, in \u001b[0;36mSingleTurnMetric.single_turn_ascore\u001b[1;34m(self, sample, callbacks, timeout)\u001b[0m\n\u001b[0;32m    500\u001b[0m     \u001b[38;5;28;01mif\u001b[39;00m \u001b[38;5;129;01mnot\u001b[39;00m group_cm\u001b[38;5;241m.\u001b[39mended:\n\u001b[0;32m    501\u001b[0m         rm\u001b[38;5;241m.\u001b[39mon_chain_error(e)\n\u001b[1;32m--> 502\u001b[0m     \u001b[38;5;28;01mraise\u001b[39;00m e\n\u001b[0;32m    503\u001b[0m \u001b[38;5;28;01melse\u001b[39;00m:\n\u001b[0;32m    504\u001b[0m     \u001b[38;5;28;01mif\u001b[39;00m \u001b[38;5;129;01mnot\u001b[39;00m group_cm\u001b[38;5;241m.\u001b[39mended:\n",
      "File \u001b[1;32m~\\OneDrive - Accenture\\Desktop\\MyFolder\\Studying\\GenAi\\RAG_Testing\\vEnv\\Lib\\site-packages\\ragas\\metrics\\base.py:495\u001b[0m, in \u001b[0;36mSingleTurnMetric.single_turn_ascore\u001b[1;34m(self, sample, callbacks, timeout)\u001b[0m\n\u001b[0;32m    488\u001b[0m rm, group_cm \u001b[38;5;241m=\u001b[39m new_group(\n\u001b[0;32m    489\u001b[0m     \u001b[38;5;28mself\u001b[39m\u001b[38;5;241m.\u001b[39mname,\n\u001b[0;32m    490\u001b[0m     inputs\u001b[38;5;241m=\u001b[39msample\u001b[38;5;241m.\u001b[39mto_dict(),\n\u001b[0;32m    491\u001b[0m     callbacks\u001b[38;5;241m=\u001b[39mcallbacks,\n\u001b[0;32m    492\u001b[0m     metadata\u001b[38;5;241m=\u001b[39m{\u001b[38;5;124m\"\u001b[39m\u001b[38;5;124mtype\u001b[39m\u001b[38;5;124m\"\u001b[39m: ChainType\u001b[38;5;241m.\u001b[39mMETRIC},\n\u001b[0;32m    493\u001b[0m )\n\u001b[0;32m    494\u001b[0m \u001b[38;5;28;01mtry\u001b[39;00m:\n\u001b[1;32m--> 495\u001b[0m     score \u001b[38;5;241m=\u001b[39m \u001b[38;5;28;01mawait\u001b[39;00m asyncio\u001b[38;5;241m.\u001b[39mwait_for(\n\u001b[0;32m    496\u001b[0m         \u001b[38;5;28mself\u001b[39m\u001b[38;5;241m.\u001b[39m_single_turn_ascore(sample\u001b[38;5;241m=\u001b[39msample, callbacks\u001b[38;5;241m=\u001b[39mgroup_cm),\n\u001b[0;32m    497\u001b[0m         timeout\u001b[38;5;241m=\u001b[39mtimeout,\n\u001b[0;32m    498\u001b[0m     )\n\u001b[0;32m    499\u001b[0m \u001b[38;5;28;01mexcept\u001b[39;00m \u001b[38;5;167;01mException\u001b[39;00m \u001b[38;5;28;01mas\u001b[39;00m e:\n\u001b[0;32m    500\u001b[0m     \u001b[38;5;28;01mif\u001b[39;00m \u001b[38;5;129;01mnot\u001b[39;00m group_cm\u001b[38;5;241m.\u001b[39mended:\n",
      "File \u001b[1;32m~\\AppData\\Local\\Programs\\Python\\Python311\\Lib\\asyncio\\tasks.py:442\u001b[0m, in \u001b[0;36mwait_for\u001b[1;34m(fut, timeout)\u001b[0m\n\u001b[0;32m    439\u001b[0m loop \u001b[38;5;241m=\u001b[39m events\u001b[38;5;241m.\u001b[39mget_running_loop()\n\u001b[0;32m    441\u001b[0m \u001b[38;5;28;01mif\u001b[39;00m timeout \u001b[38;5;129;01mis\u001b[39;00m \u001b[38;5;28;01mNone\u001b[39;00m:\n\u001b[1;32m--> 442\u001b[0m     \u001b[38;5;28;01mreturn\u001b[39;00m \u001b[38;5;28;01mawait\u001b[39;00m fut\n\u001b[0;32m    444\u001b[0m \u001b[38;5;28;01mif\u001b[39;00m timeout \u001b[38;5;241m<\u001b[39m\u001b[38;5;241m=\u001b[39m \u001b[38;5;241m0\u001b[39m:\n\u001b[0;32m    445\u001b[0m     fut \u001b[38;5;241m=\u001b[39m ensure_future(fut, loop\u001b[38;5;241m=\u001b[39mloop)\n",
      "File \u001b[1;32m~\\OneDrive - Accenture\\Desktop\\MyFolder\\Studying\\GenAi\\RAG_Testing\\vEnv\\Lib\\site-packages\\ragas\\metrics\\_aspect_critic.py:171\u001b[0m, in \u001b[0;36mAspectCritic._single_turn_ascore\u001b[1;34m(self, sample, callbacks)\u001b[0m\n\u001b[0;32m    167\u001b[0m \u001b[38;5;28;01masync\u001b[39;00m \u001b[38;5;28;01mdef\u001b[39;00m \u001b[38;5;21m_single_turn_ascore\u001b[39m(\n\u001b[0;32m    168\u001b[0m     \u001b[38;5;28mself\u001b[39m, sample: SingleTurnSample, callbacks: Callbacks\n\u001b[0;32m    169\u001b[0m ) \u001b[38;5;241m-\u001b[39m\u001b[38;5;241m>\u001b[39m \u001b[38;5;28mfloat\u001b[39m:\n\u001b[0;32m    170\u001b[0m     row \u001b[38;5;241m=\u001b[39m sample\u001b[38;5;241m.\u001b[39mto_dict()\n\u001b[1;32m--> 171\u001b[0m     \u001b[38;5;28;01mreturn\u001b[39;00m \u001b[38;5;28;01mawait\u001b[39;00m \u001b[38;5;28mself\u001b[39m\u001b[38;5;241m.\u001b[39m_ascore(row, callbacks)\n",
      "File \u001b[1;32m~\\OneDrive - Accenture\\Desktop\\MyFolder\\Studying\\GenAi\\RAG_Testing\\vEnv\\Lib\\site-packages\\ragas\\metrics\\_aspect_critic.py:190\u001b[0m, in \u001b[0;36mAspectCritic._ascore\u001b[1;34m(self, row, callbacks)\u001b[0m\n\u001b[0;32m    180\u001b[0m reference_contexts \u001b[38;5;241m=\u001b[39m row\u001b[38;5;241m.\u001b[39mget(\u001b[38;5;124m\"\u001b[39m\u001b[38;5;124mreference_contexts\u001b[39m\u001b[38;5;124m\"\u001b[39m)\n\u001b[0;32m    182\u001b[0m prompt_input \u001b[38;5;241m=\u001b[39m AspectCriticInput(\n\u001b[0;32m    183\u001b[0m     user_input\u001b[38;5;241m=\u001b[39muser_input,\n\u001b[0;32m    184\u001b[0m     response\u001b[38;5;241m=\u001b[39mresponse,\n\u001b[1;32m   (...)\u001b[0m\n\u001b[0;32m    187\u001b[0m     reference_contexts\u001b[38;5;241m=\u001b[39mreference_contexts,\n\u001b[0;32m    188\u001b[0m )\n\u001b[1;32m--> 190\u001b[0m response \u001b[38;5;241m=\u001b[39m \u001b[38;5;28;01mawait\u001b[39;00m \u001b[38;5;28mself\u001b[39m\u001b[38;5;241m.\u001b[39msingle_turn_prompt\u001b[38;5;241m.\u001b[39mgenerate(\n\u001b[0;32m    191\u001b[0m     data\u001b[38;5;241m=\u001b[39mprompt_input,\n\u001b[0;32m    192\u001b[0m     llm\u001b[38;5;241m=\u001b[39m\u001b[38;5;28mself\u001b[39m\u001b[38;5;241m.\u001b[39mllm,\n\u001b[0;32m    193\u001b[0m     callbacks\u001b[38;5;241m=\u001b[39mcallbacks,\n\u001b[0;32m    194\u001b[0m )\n\u001b[0;32m    196\u001b[0m \u001b[38;5;28;01mreturn\u001b[39;00m \u001b[38;5;28mself\u001b[39m\u001b[38;5;241m.\u001b[39m_compute_score([response])\n",
      "File \u001b[1;32m~\\OneDrive - Accenture\\Desktop\\MyFolder\\Studying\\GenAi\\RAG_Testing\\vEnv\\Lib\\site-packages\\ragas\\prompt\\pydantic_prompt.py:126\u001b[0m, in \u001b[0;36mPydanticPrompt.generate\u001b[1;34m(self, llm, data, temperature, stop, callbacks, retries_left)\u001b[0m\n\u001b[0;32m    123\u001b[0m callbacks \u001b[38;5;241m=\u001b[39m callbacks \u001b[38;5;129;01mor\u001b[39;00m []\n\u001b[0;32m    125\u001b[0m \u001b[38;5;66;03m# this is just a special case of generate_multiple\u001b[39;00m\n\u001b[1;32m--> 126\u001b[0m output_single \u001b[38;5;241m=\u001b[39m \u001b[38;5;28;01mawait\u001b[39;00m \u001b[38;5;28mself\u001b[39m\u001b[38;5;241m.\u001b[39mgenerate_multiple(\n\u001b[0;32m    127\u001b[0m     llm\u001b[38;5;241m=\u001b[39mllm,\n\u001b[0;32m    128\u001b[0m     data\u001b[38;5;241m=\u001b[39mdata,\n\u001b[0;32m    129\u001b[0m     n\u001b[38;5;241m=\u001b[39m\u001b[38;5;241m1\u001b[39m,\n\u001b[0;32m    130\u001b[0m     temperature\u001b[38;5;241m=\u001b[39mtemperature,\n\u001b[0;32m    131\u001b[0m     stop\u001b[38;5;241m=\u001b[39mstop,\n\u001b[0;32m    132\u001b[0m     callbacks\u001b[38;5;241m=\u001b[39mcallbacks,\n\u001b[0;32m    133\u001b[0m     retries_left\u001b[38;5;241m=\u001b[39mretries_left,\n\u001b[0;32m    134\u001b[0m )\n\u001b[0;32m    135\u001b[0m \u001b[38;5;28;01mreturn\u001b[39;00m output_single[\u001b[38;5;241m0\u001b[39m]\n",
      "File \u001b[1;32m~\\OneDrive - Accenture\\Desktop\\MyFolder\\Studying\\GenAi\\RAG_Testing\\vEnv\\Lib\\site-packages\\ragas\\prompt\\pydantic_prompt.py:187\u001b[0m, in \u001b[0;36mPydanticPrompt.generate_multiple\u001b[1;34m(self, llm, data, n, temperature, stop, callbacks, retries_left)\u001b[0m\n\u001b[0;32m    180\u001b[0m prompt_rm, prompt_cb \u001b[38;5;241m=\u001b[39m new_group(\n\u001b[0;32m    181\u001b[0m     name\u001b[38;5;241m=\u001b[39m\u001b[38;5;28mself\u001b[39m\u001b[38;5;241m.\u001b[39mname,\n\u001b[0;32m    182\u001b[0m     inputs\u001b[38;5;241m=\u001b[39m{\u001b[38;5;124m\"\u001b[39m\u001b[38;5;124mdata\u001b[39m\u001b[38;5;124m\"\u001b[39m: processed_data},\n\u001b[0;32m    183\u001b[0m     callbacks\u001b[38;5;241m=\u001b[39mcallbacks,\n\u001b[0;32m    184\u001b[0m     metadata\u001b[38;5;241m=\u001b[39m{\u001b[38;5;124m\"\u001b[39m\u001b[38;5;124mtype\u001b[39m\u001b[38;5;124m\"\u001b[39m: ChainType\u001b[38;5;241m.\u001b[39mRAGAS_PROMPT},\n\u001b[0;32m    185\u001b[0m )\n\u001b[0;32m    186\u001b[0m prompt_value \u001b[38;5;241m=\u001b[39m PromptValue(text\u001b[38;5;241m=\u001b[39m\u001b[38;5;28mself\u001b[39m\u001b[38;5;241m.\u001b[39mto_string(processed_data))\n\u001b[1;32m--> 187\u001b[0m resp \u001b[38;5;241m=\u001b[39m \u001b[38;5;28;01mawait\u001b[39;00m llm\u001b[38;5;241m.\u001b[39mgenerate(\n\u001b[0;32m    188\u001b[0m     prompt_value,\n\u001b[0;32m    189\u001b[0m     n\u001b[38;5;241m=\u001b[39mn,\n\u001b[0;32m    190\u001b[0m     temperature\u001b[38;5;241m=\u001b[39mtemperature,\n\u001b[0;32m    191\u001b[0m     stop\u001b[38;5;241m=\u001b[39mstop,\n\u001b[0;32m    192\u001b[0m     callbacks\u001b[38;5;241m=\u001b[39mprompt_cb,\n\u001b[0;32m    193\u001b[0m )\n\u001b[0;32m    195\u001b[0m output_models \u001b[38;5;241m=\u001b[39m []\n\u001b[0;32m    196\u001b[0m parser \u001b[38;5;241m=\u001b[39m RagasOutputParser(pydantic_object\u001b[38;5;241m=\u001b[39m\u001b[38;5;28mself\u001b[39m\u001b[38;5;241m.\u001b[39moutput_model)\n",
      "File \u001b[1;32m~\\OneDrive - Accenture\\Desktop\\MyFolder\\Studying\\GenAi\\RAG_Testing\\vEnv\\Lib\\site-packages\\ragas\\llms\\base.py:108\u001b[0m, in \u001b[0;36mBaseRagasLLM.generate\u001b[1;34m(self, prompt, n, temperature, stop, callbacks)\u001b[0m\n\u001b[0;32m    103\u001b[0m     temperature \u001b[38;5;241m=\u001b[39m \u001b[38;5;28mself\u001b[39m\u001b[38;5;241m.\u001b[39mget_temperature(n)\n\u001b[0;32m    105\u001b[0m agenerate_text_with_retry \u001b[38;5;241m=\u001b[39m add_async_retry(\n\u001b[0;32m    106\u001b[0m     \u001b[38;5;28mself\u001b[39m\u001b[38;5;241m.\u001b[39magenerate_text, \u001b[38;5;28mself\u001b[39m\u001b[38;5;241m.\u001b[39mrun_config\n\u001b[0;32m    107\u001b[0m )\n\u001b[1;32m--> 108\u001b[0m result \u001b[38;5;241m=\u001b[39m \u001b[38;5;28;01mawait\u001b[39;00m agenerate_text_with_retry(\n\u001b[0;32m    109\u001b[0m     prompt\u001b[38;5;241m=\u001b[39mprompt,\n\u001b[0;32m    110\u001b[0m     n\u001b[38;5;241m=\u001b[39mn,\n\u001b[0;32m    111\u001b[0m     temperature\u001b[38;5;241m=\u001b[39mtemperature,\n\u001b[0;32m    112\u001b[0m     stop\u001b[38;5;241m=\u001b[39mstop,\n\u001b[0;32m    113\u001b[0m     callbacks\u001b[38;5;241m=\u001b[39mcallbacks,\n\u001b[0;32m    114\u001b[0m )\n\u001b[0;32m    116\u001b[0m \u001b[38;5;66;03m# check there are no max_token issues\u001b[39;00m\n\u001b[0;32m    117\u001b[0m \u001b[38;5;28;01mif\u001b[39;00m \u001b[38;5;129;01mnot\u001b[39;00m \u001b[38;5;28mself\u001b[39m\u001b[38;5;241m.\u001b[39mis_finished(result):\n",
      "File \u001b[1;32m~\\OneDrive - Accenture\\Desktop\\MyFolder\\Studying\\GenAi\\RAG_Testing\\vEnv\\Lib\\site-packages\\tenacity\\asyncio\\__init__.py:189\u001b[0m, in \u001b[0;36mAsyncRetrying.wraps.<locals>.async_wrapped\u001b[1;34m(*args, **kwargs)\u001b[0m\n\u001b[0;32m    187\u001b[0m copy \u001b[38;5;241m=\u001b[39m \u001b[38;5;28mself\u001b[39m\u001b[38;5;241m.\u001b[39mcopy()\n\u001b[0;32m    188\u001b[0m async_wrapped\u001b[38;5;241m.\u001b[39mstatistics \u001b[38;5;241m=\u001b[39m copy\u001b[38;5;241m.\u001b[39mstatistics  \u001b[38;5;66;03m# type: ignore[attr-defined]\u001b[39;00m\n\u001b[1;32m--> 189\u001b[0m \u001b[38;5;28;01mreturn\u001b[39;00m \u001b[38;5;28;01mawait\u001b[39;00m copy(fn, \u001b[38;5;241m*\u001b[39margs, \u001b[38;5;241m*\u001b[39m\u001b[38;5;241m*\u001b[39mkwargs)\n",
      "File \u001b[1;32m~\\OneDrive - Accenture\\Desktop\\MyFolder\\Studying\\GenAi\\RAG_Testing\\vEnv\\Lib\\site-packages\\tenacity\\asyncio\\__init__.py:111\u001b[0m, in \u001b[0;36mAsyncRetrying.__call__\u001b[1;34m(self, fn, *args, **kwargs)\u001b[0m\n\u001b[0;32m    109\u001b[0m retry_state \u001b[38;5;241m=\u001b[39m RetryCallState(retry_object\u001b[38;5;241m=\u001b[39m\u001b[38;5;28mself\u001b[39m, fn\u001b[38;5;241m=\u001b[39mfn, args\u001b[38;5;241m=\u001b[39margs, kwargs\u001b[38;5;241m=\u001b[39mkwargs)\n\u001b[0;32m    110\u001b[0m \u001b[38;5;28;01mwhile\u001b[39;00m \u001b[38;5;28;01mTrue\u001b[39;00m:\n\u001b[1;32m--> 111\u001b[0m     do \u001b[38;5;241m=\u001b[39m \u001b[38;5;28;01mawait\u001b[39;00m \u001b[38;5;28mself\u001b[39m\u001b[38;5;241m.\u001b[39miter(retry_state\u001b[38;5;241m=\u001b[39mretry_state)\n\u001b[0;32m    112\u001b[0m     \u001b[38;5;28;01mif\u001b[39;00m \u001b[38;5;28misinstance\u001b[39m(do, DoAttempt):\n\u001b[0;32m    113\u001b[0m         \u001b[38;5;28;01mtry\u001b[39;00m:\n",
      "File \u001b[1;32m~\\OneDrive - Accenture\\Desktop\\MyFolder\\Studying\\GenAi\\RAG_Testing\\vEnv\\Lib\\site-packages\\tenacity\\asyncio\\__init__.py:153\u001b[0m, in \u001b[0;36mAsyncRetrying.iter\u001b[1;34m(self, retry_state)\u001b[0m\n\u001b[0;32m    151\u001b[0m result \u001b[38;5;241m=\u001b[39m \u001b[38;5;28;01mNone\u001b[39;00m\n\u001b[0;32m    152\u001b[0m \u001b[38;5;28;01mfor\u001b[39;00m action \u001b[38;5;129;01min\u001b[39;00m \u001b[38;5;28mself\u001b[39m\u001b[38;5;241m.\u001b[39miter_state\u001b[38;5;241m.\u001b[39mactions:\n\u001b[1;32m--> 153\u001b[0m     result \u001b[38;5;241m=\u001b[39m \u001b[38;5;28;01mawait\u001b[39;00m action(retry_state)\n\u001b[0;32m    154\u001b[0m \u001b[38;5;28;01mreturn\u001b[39;00m result\n",
      "File \u001b[1;32m~\\OneDrive - Accenture\\Desktop\\MyFolder\\Studying\\GenAi\\RAG_Testing\\vEnv\\Lib\\site-packages\\tenacity\\_utils.py:99\u001b[0m, in \u001b[0;36mwrap_to_async_func.<locals>.inner\u001b[1;34m(*args, **kwargs)\u001b[0m\n\u001b[0;32m     98\u001b[0m \u001b[38;5;28;01masync\u001b[39;00m \u001b[38;5;28;01mdef\u001b[39;00m \u001b[38;5;21minner\u001b[39m(\u001b[38;5;241m*\u001b[39margs: typing\u001b[38;5;241m.\u001b[39mAny, \u001b[38;5;241m*\u001b[39m\u001b[38;5;241m*\u001b[39mkwargs: typing\u001b[38;5;241m.\u001b[39mAny) \u001b[38;5;241m-\u001b[39m\u001b[38;5;241m>\u001b[39m typing\u001b[38;5;241m.\u001b[39mAny:\n\u001b[1;32m---> 99\u001b[0m     \u001b[38;5;28;01mreturn\u001b[39;00m \u001b[43mcall\u001b[49m\u001b[43m(\u001b[49m\u001b[38;5;241;43m*\u001b[39;49m\u001b[43margs\u001b[49m\u001b[43m,\u001b[49m\u001b[43m \u001b[49m\u001b[38;5;241;43m*\u001b[39;49m\u001b[38;5;241;43m*\u001b[39;49m\u001b[43mkwargs\u001b[49m\u001b[43m)\u001b[49m\n",
      "File \u001b[1;32m~\\OneDrive - Accenture\\Desktop\\MyFolder\\Studying\\GenAi\\RAG_Testing\\vEnv\\Lib\\site-packages\\tenacity\\__init__.py:418\u001b[0m, in \u001b[0;36mBaseRetrying._post_stop_check_actions.<locals>.exc_check\u001b[1;34m(rs)\u001b[0m\n\u001b[0;32m    416\u001b[0m retry_exc \u001b[38;5;241m=\u001b[39m \u001b[38;5;28mself\u001b[39m\u001b[38;5;241m.\u001b[39mretry_error_cls(fut)\n\u001b[0;32m    417\u001b[0m \u001b[38;5;28;01mif\u001b[39;00m \u001b[38;5;28mself\u001b[39m\u001b[38;5;241m.\u001b[39mreraise:\n\u001b[1;32m--> 418\u001b[0m     \u001b[38;5;28;01mraise\u001b[39;00m \u001b[43mretry_exc\u001b[49m\u001b[38;5;241;43m.\u001b[39;49m\u001b[43mreraise\u001b[49m\u001b[43m(\u001b[49m\u001b[43m)\u001b[49m\n\u001b[0;32m    419\u001b[0m \u001b[38;5;28;01mraise\u001b[39;00m retry_exc \u001b[38;5;28;01mfrom\u001b[39;00m \u001b[38;5;21;01mfut\u001b[39;00m\u001b[38;5;21;01m.\u001b[39;00m\u001b[38;5;21;01mexception\u001b[39;00m()\n",
      "File \u001b[1;32m~\\OneDrive - Accenture\\Desktop\\MyFolder\\Studying\\GenAi\\RAG_Testing\\vEnv\\Lib\\site-packages\\tenacity\\__init__.py:185\u001b[0m, in \u001b[0;36mRetryError.reraise\u001b[1;34m(self)\u001b[0m\n\u001b[0;32m    183\u001b[0m \u001b[38;5;28;01mdef\u001b[39;00m \u001b[38;5;21mreraise\u001b[39m(\u001b[38;5;28mself\u001b[39m) \u001b[38;5;241m-\u001b[39m\u001b[38;5;241m>\u001b[39m t\u001b[38;5;241m.\u001b[39mNoReturn:\n\u001b[0;32m    184\u001b[0m     \u001b[38;5;28;01mif\u001b[39;00m \u001b[38;5;28mself\u001b[39m\u001b[38;5;241m.\u001b[39mlast_attempt\u001b[38;5;241m.\u001b[39mfailed:\n\u001b[1;32m--> 185\u001b[0m         \u001b[38;5;28;01mraise\u001b[39;00m \u001b[38;5;28;43mself\u001b[39;49m\u001b[38;5;241;43m.\u001b[39;49m\u001b[43mlast_attempt\u001b[49m\u001b[38;5;241;43m.\u001b[39;49m\u001b[43mresult\u001b[49m\u001b[43m(\u001b[49m\u001b[43m)\u001b[49m\n\u001b[0;32m    186\u001b[0m     \u001b[38;5;28;01mraise\u001b[39;00m \u001b[38;5;28mself\u001b[39m\n",
      "File \u001b[1;32m~\\AppData\\Local\\Programs\\Python\\Python311\\Lib\\concurrent\\futures\\_base.py:449\u001b[0m, in \u001b[0;36mFuture.result\u001b[1;34m(self, timeout)\u001b[0m\n\u001b[0;32m    447\u001b[0m     \u001b[38;5;28;01mraise\u001b[39;00m CancelledError()\n\u001b[0;32m    448\u001b[0m \u001b[38;5;28;01melif\u001b[39;00m \u001b[38;5;28mself\u001b[39m\u001b[38;5;241m.\u001b[39m_state \u001b[38;5;241m==\u001b[39m FINISHED:\n\u001b[1;32m--> 449\u001b[0m     \u001b[38;5;28;01mreturn\u001b[39;00m \u001b[38;5;28;43mself\u001b[39;49m\u001b[38;5;241;43m.\u001b[39;49m\u001b[43m__get_result\u001b[49m\u001b[43m(\u001b[49m\u001b[43m)\u001b[49m\n\u001b[0;32m    451\u001b[0m \u001b[38;5;28mself\u001b[39m\u001b[38;5;241m.\u001b[39m_condition\u001b[38;5;241m.\u001b[39mwait(timeout)\n\u001b[0;32m    453\u001b[0m \u001b[38;5;28;01mif\u001b[39;00m \u001b[38;5;28mself\u001b[39m\u001b[38;5;241m.\u001b[39m_state \u001b[38;5;129;01min\u001b[39;00m [CANCELLED, CANCELLED_AND_NOTIFIED]:\n",
      "File \u001b[1;32m~\\AppData\\Local\\Programs\\Python\\Python311\\Lib\\concurrent\\futures\\_base.py:401\u001b[0m, in \u001b[0;36mFuture.__get_result\u001b[1;34m(self)\u001b[0m\n\u001b[0;32m    399\u001b[0m \u001b[38;5;28;01mif\u001b[39;00m \u001b[38;5;28mself\u001b[39m\u001b[38;5;241m.\u001b[39m_exception:\n\u001b[0;32m    400\u001b[0m     \u001b[38;5;28;01mtry\u001b[39;00m:\n\u001b[1;32m--> 401\u001b[0m         \u001b[38;5;28;01mraise\u001b[39;00m \u001b[38;5;28mself\u001b[39m\u001b[38;5;241m.\u001b[39m_exception\n\u001b[0;32m    402\u001b[0m     \u001b[38;5;28;01mfinally\u001b[39;00m:\n\u001b[0;32m    403\u001b[0m         \u001b[38;5;66;03m# Break a reference cycle with the exception in self._exception\u001b[39;00m\n\u001b[0;32m    404\u001b[0m         \u001b[38;5;28mself\u001b[39m \u001b[38;5;241m=\u001b[39m \u001b[38;5;28;01mNone\u001b[39;00m\n",
      "File \u001b[1;32m~\\OneDrive - Accenture\\Desktop\\MyFolder\\Studying\\GenAi\\RAG_Testing\\vEnv\\Lib\\site-packages\\tenacity\\asyncio\\__init__.py:114\u001b[0m, in \u001b[0;36mAsyncRetrying.__call__\u001b[1;34m(self, fn, *args, **kwargs)\u001b[0m\n\u001b[0;32m    112\u001b[0m \u001b[38;5;28;01mif\u001b[39;00m \u001b[38;5;28misinstance\u001b[39m(do, DoAttempt):\n\u001b[0;32m    113\u001b[0m     \u001b[38;5;28;01mtry\u001b[39;00m:\n\u001b[1;32m--> 114\u001b[0m         result \u001b[38;5;241m=\u001b[39m \u001b[38;5;28;01mawait\u001b[39;00m fn(\u001b[38;5;241m*\u001b[39margs, \u001b[38;5;241m*\u001b[39m\u001b[38;5;241m*\u001b[39mkwargs)\n\u001b[0;32m    115\u001b[0m     \u001b[38;5;28;01mexcept\u001b[39;00m \u001b[38;5;167;01mBaseException\u001b[39;00m:  \u001b[38;5;66;03m# noqa: B902\u001b[39;00m\n\u001b[0;32m    116\u001b[0m         retry_state\u001b[38;5;241m.\u001b[39mset_exception(sys\u001b[38;5;241m.\u001b[39mexc_info())  \u001b[38;5;66;03m# type: ignore[arg-type]\u001b[39;00m\n",
      "File \u001b[1;32m~\\OneDrive - Accenture\\Desktop\\MyFolder\\Studying\\GenAi\\RAG_Testing\\vEnv\\Lib\\site-packages\\ragas\\llms\\base.py:370\u001b[0m, in \u001b[0;36mLlamaIndexLLMWrapper.agenerate_text\u001b[1;34m(self, prompt, n, temperature, stop, callbacks)\u001b[0m\n\u001b[0;32m    367\u001b[0m     temperature \u001b[38;5;241m=\u001b[39m \u001b[38;5;28mself\u001b[39m\u001b[38;5;241m.\u001b[39mget_temperature(n)\n\u001b[0;32m    369\u001b[0m kwargs \u001b[38;5;241m=\u001b[39m \u001b[38;5;28mself\u001b[39m\u001b[38;5;241m.\u001b[39mcheck_args(n, temperature, stop, callbacks)\n\u001b[1;32m--> 370\u001b[0m li_response \u001b[38;5;241m=\u001b[39m \u001b[38;5;28;01mawait\u001b[39;00m \u001b[38;5;28;43mself\u001b[39;49m\u001b[38;5;241;43m.\u001b[39;49m\u001b[43mllm\u001b[49m\u001b[38;5;241;43m.\u001b[39;49m\u001b[43macomplete\u001b[49m(prompt\u001b[38;5;241m.\u001b[39mto_string(), \u001b[38;5;241m*\u001b[39m\u001b[38;5;241m*\u001b[39mkwargs)\n\u001b[0;32m    372\u001b[0m \u001b[38;5;28;01mreturn\u001b[39;00m LLMResult(generations\u001b[38;5;241m=\u001b[39m[[Generation(text\u001b[38;5;241m=\u001b[39mli_response\u001b[38;5;241m.\u001b[39mtext)]])\n",
      "File \u001b[1;32m~\\OneDrive - Accenture\\Desktop\\MyFolder\\Studying\\GenAi\\RAG_Testing\\vEnv\\Lib\\site-packages\\pydantic\\main.py:856\u001b[0m, in \u001b[0;36mBaseModel.__getattr__\u001b[1;34m(self, item)\u001b[0m\n\u001b[0;32m    853\u001b[0m     \u001b[38;5;28;01mreturn\u001b[39;00m \u001b[38;5;28msuper\u001b[39m()\u001b[38;5;241m.\u001b[39m\u001b[38;5;21m__getattribute__\u001b[39m(item)  \u001b[38;5;66;03m# Raises AttributeError if appropriate\u001b[39;00m\n\u001b[0;32m    854\u001b[0m \u001b[38;5;28;01melse\u001b[39;00m:\n\u001b[0;32m    855\u001b[0m     \u001b[38;5;66;03m# this is the current error\u001b[39;00m\n\u001b[1;32m--> 856\u001b[0m     \u001b[38;5;28;01mraise\u001b[39;00m \u001b[38;5;167;01mAttributeError\u001b[39;00m(\u001b[38;5;124mf\u001b[39m\u001b[38;5;124m'\u001b[39m\u001b[38;5;132;01m{\u001b[39;00m\u001b[38;5;28mtype\u001b[39m(\u001b[38;5;28mself\u001b[39m)\u001b[38;5;241m.\u001b[39m\u001b[38;5;18m__name__\u001b[39m\u001b[38;5;132;01m!r}\u001b[39;00m\u001b[38;5;124m object has no attribute \u001b[39m\u001b[38;5;132;01m{\u001b[39;00mitem\u001b[38;5;132;01m!r}\u001b[39;00m\u001b[38;5;124m'\u001b[39m)\n",
      "\u001b[1;31mAttributeError\u001b[0m: 'ChatGoogleGenerativeAI' object has no attribute 'acomplete'"
     ]
    }
   ],
   "source": [
    "from ragas import SingleTurnSample\n",
    "from ragas.metrics import AspectCritic\n",
    "\n",
    "test_data = {\n",
    "    \"user_input\": \"summarise given text\\nThe company reported an 8% rise in Q3 2024, driven by strong performance in the Asian market. Sales in this region have significantly contributed to the overall growth. Analysts attribute this success to strategic marketing and product localization. The positive trend in the Asian market is expected to continue into the next quarter.\",\n",
    "    \"response\": \"The company experienced an 8% increase in Q3 2024, largely due to effective marketing strategies and product adaptation, with expectations of continued growth in the coming quarter.\",\n",
    "}\n",
    "# evaluator_llm = LangchainLLMWrapper(ChatOpenAI(model=\"gpt-4o\"))\n",
    "metric = AspectCritic(name=\"summary_accuracy\",llm=evaluator_llm, definition=\"Verify if the summary is accurate.\")\n",
    "await metric.single_turn_ascore(SingleTurnSample(**test_data))"
   ]
  },
  {
   "cell_type": "code",
   "execution_count": 22,
   "id": "17fe67b2-319e-4c65-8fb3-4a1b53eddc51",
   "metadata": {},
   "outputs": [
    {
     "name": "stdout",
     "output_type": "stream",
     "text": [
      "Requirement already satisfied: ragas in c:\\users\\filip.kosowski\\onedrive - accenture\\desktop\\myfolder\\studying\\genai\\rag_testing\\venv\\lib\\site-packages (0.2.10)\n",
      "Collecting ragas\n",
      "  Downloading ragas-0.2.11-py3-none-any.whl (176 kB)\n",
      "     -------------------------------------- 176.9/176.9 kB 1.8 MB/s eta 0:00:00\n",
      "Requirement already satisfied: numpy in c:\\users\\filip.kosowski\\onedrive - accenture\\desktop\\myfolder\\studying\\genai\\rag_testing\\venv\\lib\\site-packages (from ragas) (1.26.4)\n",
      "Requirement already satisfied: datasets in c:\\users\\filip.kosowski\\onedrive - accenture\\desktop\\myfolder\\studying\\genai\\rag_testing\\venv\\lib\\site-packages (from ragas) (3.2.0)\n",
      "Requirement already satisfied: tiktoken in c:\\users\\filip.kosowski\\onedrive - accenture\\desktop\\myfolder\\studying\\genai\\rag_testing\\venv\\lib\\site-packages (from ragas) (0.8.0)\n",
      "Requirement already satisfied: langchain in c:\\users\\filip.kosowski\\onedrive - accenture\\desktop\\myfolder\\studying\\genai\\rag_testing\\venv\\lib\\site-packages (from ragas) (0.3.14)\n",
      "Requirement already satisfied: langchain-core in c:\\users\\filip.kosowski\\onedrive - accenture\\desktop\\myfolder\\studying\\genai\\rag_testing\\venv\\lib\\site-packages (from ragas) (0.3.29)\n",
      "Requirement already satisfied: langchain-community in c:\\users\\filip.kosowski\\onedrive - accenture\\desktop\\myfolder\\studying\\genai\\rag_testing\\venv\\lib\\site-packages (from ragas) (0.3.14)\n",
      "Requirement already satisfied: langchain_openai in c:\\users\\filip.kosowski\\onedrive - accenture\\desktop\\myfolder\\studying\\genai\\rag_testing\\venv\\lib\\site-packages (from ragas) (0.3.0)\n",
      "Requirement already satisfied: nest-asyncio in c:\\users\\filip.kosowski\\onedrive - accenture\\desktop\\myfolder\\studying\\genai\\rag_testing\\venv\\lib\\site-packages (from ragas) (1.6.0)\n",
      "Requirement already satisfied: appdirs in c:\\users\\filip.kosowski\\onedrive - accenture\\desktop\\myfolder\\studying\\genai\\rag_testing\\venv\\lib\\site-packages (from ragas) (1.4.4)\n",
      "Requirement already satisfied: pydantic>=2 in c:\\users\\filip.kosowski\\onedrive - accenture\\desktop\\myfolder\\studying\\genai\\rag_testing\\venv\\lib\\site-packages (from ragas) (2.9.2)\n",
      "Requirement already satisfied: openai>1 in c:\\users\\filip.kosowski\\onedrive - accenture\\desktop\\myfolder\\studying\\genai\\rag_testing\\venv\\lib\\site-packages (from ragas) (1.59.7)\n",
      "Requirement already satisfied: diskcache>=5.6.3 in c:\\users\\filip.kosowski\\onedrive - accenture\\desktop\\myfolder\\studying\\genai\\rag_testing\\venv\\lib\\site-packages (from ragas) (5.6.3)\n",
      "Requirement already satisfied: anyio<5,>=3.5.0 in c:\\users\\filip.kosowski\\onedrive - accenture\\desktop\\myfolder\\studying\\genai\\rag_testing\\venv\\lib\\site-packages (from openai>1->ragas) (4.6.2.post1)\n",
      "Requirement already satisfied: distro<2,>=1.7.0 in c:\\users\\filip.kosowski\\onedrive - accenture\\desktop\\myfolder\\studying\\genai\\rag_testing\\venv\\lib\\site-packages (from openai>1->ragas) (1.9.0)\n",
      "Requirement already satisfied: httpx<1,>=0.23.0 in c:\\users\\filip.kosowski\\onedrive - accenture\\desktop\\myfolder\\studying\\genai\\rag_testing\\venv\\lib\\site-packages (from openai>1->ragas) (0.27.2)\n",
      "Requirement already satisfied: jiter<1,>=0.4.0 in c:\\users\\filip.kosowski\\onedrive - accenture\\desktop\\myfolder\\studying\\genai\\rag_testing\\venv\\lib\\site-packages (from openai>1->ragas) (0.7.1)\n",
      "Requirement already satisfied: sniffio in c:\\users\\filip.kosowski\\onedrive - accenture\\desktop\\myfolder\\studying\\genai\\rag_testing\\venv\\lib\\site-packages (from openai>1->ragas) (1.3.1)\n",
      "Requirement already satisfied: tqdm>4 in c:\\users\\filip.kosowski\\onedrive - accenture\\desktop\\myfolder\\studying\\genai\\rag_testing\\venv\\lib\\site-packages (from openai>1->ragas) (4.67.0)\n",
      "Requirement already satisfied: typing-extensions<5,>=4.11 in c:\\users\\filip.kosowski\\onedrive - accenture\\desktop\\myfolder\\studying\\genai\\rag_testing\\venv\\lib\\site-packages (from openai>1->ragas) (4.12.2)\n",
      "Requirement already satisfied: annotated-types>=0.6.0 in c:\\users\\filip.kosowski\\onedrive - accenture\\desktop\\myfolder\\studying\\genai\\rag_testing\\venv\\lib\\site-packages (from pydantic>=2->ragas) (0.7.0)\n",
      "Requirement already satisfied: pydantic-core==2.23.4 in c:\\users\\filip.kosowski\\onedrive - accenture\\desktop\\myfolder\\studying\\genai\\rag_testing\\venv\\lib\\site-packages (from pydantic>=2->ragas) (2.23.4)\n",
      "Requirement already satisfied: filelock in c:\\users\\filip.kosowski\\onedrive - accenture\\desktop\\myfolder\\studying\\genai\\rag_testing\\venv\\lib\\site-packages (from datasets->ragas) (3.16.1)\n",
      "Requirement already satisfied: pyarrow>=15.0.0 in c:\\users\\filip.kosowski\\onedrive - accenture\\desktop\\myfolder\\studying\\genai\\rag_testing\\venv\\lib\\site-packages (from datasets->ragas) (18.1.0)\n",
      "Requirement already satisfied: dill<0.3.9,>=0.3.0 in c:\\users\\filip.kosowski\\onedrive - accenture\\desktop\\myfolder\\studying\\genai\\rag_testing\\venv\\lib\\site-packages (from datasets->ragas) (0.3.8)\n",
      "Requirement already satisfied: pandas in c:\\users\\filip.kosowski\\onedrive - accenture\\desktop\\myfolder\\studying\\genai\\rag_testing\\venv\\lib\\site-packages (from datasets->ragas) (2.2.3)\n",
      "Requirement already satisfied: requests>=2.32.2 in c:\\users\\filip.kosowski\\onedrive - accenture\\desktop\\myfolder\\studying\\genai\\rag_testing\\venv\\lib\\site-packages (from datasets->ragas) (2.32.3)\n",
      "Requirement already satisfied: xxhash in c:\\users\\filip.kosowski\\onedrive - accenture\\desktop\\myfolder\\studying\\genai\\rag_testing\\venv\\lib\\site-packages (from datasets->ragas) (3.5.0)\n",
      "Requirement already satisfied: multiprocess<0.70.17 in c:\\users\\filip.kosowski\\onedrive - accenture\\desktop\\myfolder\\studying\\genai\\rag_testing\\venv\\lib\\site-packages (from datasets->ragas) (0.70.16)\n",
      "Requirement already satisfied: fsspec[http]<=2024.9.0,>=2023.1.0 in c:\\users\\filip.kosowski\\onedrive - accenture\\desktop\\myfolder\\studying\\genai\\rag_testing\\venv\\lib\\site-packages (from datasets->ragas) (2024.9.0)\n",
      "Requirement already satisfied: aiohttp in c:\\users\\filip.kosowski\\onedrive - accenture\\desktop\\myfolder\\studying\\genai\\rag_testing\\venv\\lib\\site-packages (from datasets->ragas) (3.10.10)\n",
      "Requirement already satisfied: huggingface-hub>=0.23.0 in c:\\users\\filip.kosowski\\onedrive - accenture\\desktop\\myfolder\\studying\\genai\\rag_testing\\venv\\lib\\site-packages (from datasets->ragas) (0.26.2)\n",
      "Requirement already satisfied: packaging in c:\\users\\filip.kosowski\\onedrive - accenture\\desktop\\myfolder\\studying\\genai\\rag_testing\\venv\\lib\\site-packages (from datasets->ragas) (24.2)\n",
      "Requirement already satisfied: pyyaml>=5.1 in c:\\users\\filip.kosowski\\onedrive - accenture\\desktop\\myfolder\\studying\\genai\\rag_testing\\venv\\lib\\site-packages (from datasets->ragas) (6.0.2)\n",
      "Requirement already satisfied: SQLAlchemy<3,>=1.4 in c:\\users\\filip.kosowski\\onedrive - accenture\\desktop\\myfolder\\studying\\genai\\rag_testing\\venv\\lib\\site-packages (from langchain->ragas) (2.0.36)\n",
      "Requirement already satisfied: langchain-text-splitters<0.4.0,>=0.3.3 in c:\\users\\filip.kosowski\\onedrive - accenture\\desktop\\myfolder\\studying\\genai\\rag_testing\\venv\\lib\\site-packages (from langchain->ragas) (0.3.5)\n",
      "Requirement already satisfied: langsmith<0.3,>=0.1.17 in c:\\users\\filip.kosowski\\onedrive - accenture\\desktop\\myfolder\\studying\\genai\\rag_testing\\venv\\lib\\site-packages (from langchain->ragas) (0.2.10)\n",
      "Requirement already satisfied: tenacity!=8.4.0,<10,>=8.1.0 in c:\\users\\filip.kosowski\\onedrive - accenture\\desktop\\myfolder\\studying\\genai\\rag_testing\\venv\\lib\\site-packages (from langchain->ragas) (8.5.0)\n",
      "Requirement already satisfied: jsonpatch<2.0,>=1.33 in c:\\users\\filip.kosowski\\onedrive - accenture\\desktop\\myfolder\\studying\\genai\\rag_testing\\venv\\lib\\site-packages (from langchain-core->ragas) (1.33)\n",
      "Requirement already satisfied: dataclasses-json<0.7,>=0.5.7 in c:\\users\\filip.kosowski\\onedrive - accenture\\desktop\\myfolder\\studying\\genai\\rag_testing\\venv\\lib\\site-packages (from langchain-community->ragas) (0.6.7)\n",
      "Requirement already satisfied: httpx-sse<0.5.0,>=0.4.0 in c:\\users\\filip.kosowski\\onedrive - accenture\\desktop\\myfolder\\studying\\genai\\rag_testing\\venv\\lib\\site-packages (from langchain-community->ragas) (0.4.0)\n",
      "Requirement already satisfied: pydantic-settings<3.0.0,>=2.4.0 in c:\\users\\filip.kosowski\\onedrive - accenture\\desktop\\myfolder\\studying\\genai\\rag_testing\\venv\\lib\\site-packages (from langchain-community->ragas) (2.7.1)\n",
      "Requirement already satisfied: regex>=2022.1.18 in c:\\users\\filip.kosowski\\onedrive - accenture\\desktop\\myfolder\\studying\\genai\\rag_testing\\venv\\lib\\site-packages (from tiktoken->ragas) (2024.11.6)\n",
      "Requirement already satisfied: aiohappyeyeballs>=2.3.0 in c:\\users\\filip.kosowski\\onedrive - accenture\\desktop\\myfolder\\studying\\genai\\rag_testing\\venv\\lib\\site-packages (from aiohttp->datasets->ragas) (2.4.3)\n",
      "Requirement already satisfied: aiosignal>=1.1.2 in c:\\users\\filip.kosowski\\onedrive - accenture\\desktop\\myfolder\\studying\\genai\\rag_testing\\venv\\lib\\site-packages (from aiohttp->datasets->ragas) (1.3.1)\n",
      "Requirement already satisfied: attrs>=17.3.0 in c:\\users\\filip.kosowski\\onedrive - accenture\\desktop\\myfolder\\studying\\genai\\rag_testing\\venv\\lib\\site-packages (from aiohttp->datasets->ragas) (24.2.0)\n",
      "Requirement already satisfied: frozenlist>=1.1.1 in c:\\users\\filip.kosowski\\onedrive - accenture\\desktop\\myfolder\\studying\\genai\\rag_testing\\venv\\lib\\site-packages (from aiohttp->datasets->ragas) (1.5.0)\n",
      "Requirement already satisfied: multidict<7.0,>=4.5 in c:\\users\\filip.kosowski\\onedrive - accenture\\desktop\\myfolder\\studying\\genai\\rag_testing\\venv\\lib\\site-packages (from aiohttp->datasets->ragas) (6.1.0)\n",
      "Requirement already satisfied: yarl<2.0,>=1.12.0 in c:\\users\\filip.kosowski\\onedrive - accenture\\desktop\\myfolder\\studying\\genai\\rag_testing\\venv\\lib\\site-packages (from aiohttp->datasets->ragas) (1.17.1)\n",
      "Requirement already satisfied: idna>=2.8 in c:\\users\\filip.kosowski\\onedrive - accenture\\desktop\\myfolder\\studying\\genai\\rag_testing\\venv\\lib\\site-packages (from anyio<5,>=3.5.0->openai>1->ragas) (3.10)\n",
      "Requirement already satisfied: marshmallow<4.0.0,>=3.18.0 in c:\\users\\filip.kosowski\\onedrive - accenture\\desktop\\myfolder\\studying\\genai\\rag_testing\\venv\\lib\\site-packages (from dataclasses-json<0.7,>=0.5.7->langchain-community->ragas) (3.23.1)\n",
      "Requirement already satisfied: typing-inspect<1,>=0.4.0 in c:\\users\\filip.kosowski\\onedrive - accenture\\desktop\\myfolder\\studying\\genai\\rag_testing\\venv\\lib\\site-packages (from dataclasses-json<0.7,>=0.5.7->langchain-community->ragas) (0.9.0)\n",
      "Requirement already satisfied: certifi in c:\\users\\filip.kosowski\\onedrive - accenture\\desktop\\myfolder\\studying\\genai\\rag_testing\\venv\\lib\\site-packages (from httpx<1,>=0.23.0->openai>1->ragas) (2024.8.30)\n",
      "Requirement already satisfied: httpcore==1.* in c:\\users\\filip.kosowski\\onedrive - accenture\\desktop\\myfolder\\studying\\genai\\rag_testing\\venv\\lib\\site-packages (from httpx<1,>=0.23.0->openai>1->ragas) (1.0.6)\n",
      "Requirement already satisfied: h11<0.15,>=0.13 in c:\\users\\filip.kosowski\\onedrive - accenture\\desktop\\myfolder\\studying\\genai\\rag_testing\\venv\\lib\\site-packages (from httpcore==1.*->httpx<1,>=0.23.0->openai>1->ragas) (0.14.0)\n",
      "Requirement already satisfied: jsonpointer>=1.9 in c:\\users\\filip.kosowski\\onedrive - accenture\\desktop\\myfolder\\studying\\genai\\rag_testing\\venv\\lib\\site-packages (from jsonpatch<2.0,>=1.33->langchain-core->ragas) (3.0.0)\n",
      "Requirement already satisfied: orjson<4.0.0,>=3.9.14 in c:\\users\\filip.kosowski\\onedrive - accenture\\desktop\\myfolder\\studying\\genai\\rag_testing\\venv\\lib\\site-packages (from langsmith<0.3,>=0.1.17->langchain->ragas) (3.10.11)\n",
      "Requirement already satisfied: requests-toolbelt<2.0.0,>=1.0.0 in c:\\users\\filip.kosowski\\onedrive - accenture\\desktop\\myfolder\\studying\\genai\\rag_testing\\venv\\lib\\site-packages (from langsmith<0.3,>=0.1.17->langchain->ragas) (1.0.0)\n",
      "Requirement already satisfied: python-dotenv>=0.21.0 in c:\\users\\filip.kosowski\\onedrive - accenture\\desktop\\myfolder\\studying\\genai\\rag_testing\\venv\\lib\\site-packages (from pydantic-settings<3.0.0,>=2.4.0->langchain-community->ragas) (1.0.1)\n",
      "Requirement already satisfied: charset-normalizer<4,>=2 in c:\\users\\filip.kosowski\\onedrive - accenture\\desktop\\myfolder\\studying\\genai\\rag_testing\\venv\\lib\\site-packages (from requests>=2.32.2->datasets->ragas) (3.4.0)\n",
      "Requirement already satisfied: urllib3<3,>=1.21.1 in c:\\users\\filip.kosowski\\onedrive - accenture\\desktop\\myfolder\\studying\\genai\\rag_testing\\venv\\lib\\site-packages (from requests>=2.32.2->datasets->ragas) (2.2.3)\n",
      "Requirement already satisfied: greenlet!=0.4.17 in c:\\users\\filip.kosowski\\onedrive - accenture\\desktop\\myfolder\\studying\\genai\\rag_testing\\venv\\lib\\site-packages (from SQLAlchemy<3,>=1.4->langchain->ragas) (3.1.1)\n",
      "Requirement already satisfied: colorama in c:\\users\\filip.kosowski\\onedrive - accenture\\desktop\\myfolder\\studying\\genai\\rag_testing\\venv\\lib\\site-packages (from tqdm>4->openai>1->ragas) (0.4.6)\n",
      "Requirement already satisfied: python-dateutil>=2.8.2 in c:\\users\\filip.kosowski\\onedrive - accenture\\desktop\\myfolder\\studying\\genai\\rag_testing\\venv\\lib\\site-packages (from pandas->datasets->ragas) (2.9.0.post0)\n",
      "Requirement already satisfied: pytz>=2020.1 in c:\\users\\filip.kosowski\\onedrive - accenture\\desktop\\myfolder\\studying\\genai\\rag_testing\\venv\\lib\\site-packages (from pandas->datasets->ragas) (2024.2)\n",
      "Requirement already satisfied: tzdata>=2022.7 in c:\\users\\filip.kosowski\\onedrive - accenture\\desktop\\myfolder\\studying\\genai\\rag_testing\\venv\\lib\\site-packages (from pandas->datasets->ragas) (2024.2)\n",
      "Requirement already satisfied: six>=1.5 in c:\\users\\filip.kosowski\\onedrive - accenture\\desktop\\myfolder\\studying\\genai\\rag_testing\\venv\\lib\\site-packages (from python-dateutil>=2.8.2->pandas->datasets->ragas) (1.16.0)\n",
      "Requirement already satisfied: mypy-extensions>=0.3.0 in c:\\users\\filip.kosowski\\onedrive - accenture\\desktop\\myfolder\\studying\\genai\\rag_testing\\venv\\lib\\site-packages (from typing-inspect<1,>=0.4.0->dataclasses-json<0.7,>=0.5.7->langchain-community->ragas) (1.0.0)\n",
      "Requirement already satisfied: propcache>=0.2.0 in c:\\users\\filip.kosowski\\onedrive - accenture\\desktop\\myfolder\\studying\\genai\\rag_testing\\venv\\lib\\site-packages (from yarl<2.0,>=1.12.0->aiohttp->datasets->ragas) (0.2.0)\n",
      "Installing collected packages: ragas\n",
      "  Attempting uninstall: ragas\n",
      "    Found existing installation: ragas 0.2.10\n",
      "    Uninstalling ragas-0.2.10:\n",
      "      Successfully uninstalled ragas-0.2.10\n",
      "Successfully installed ragas-0.2.11\n",
      "Note: you may need to restart the kernel to use updated packages.\n"
     ]
    },
    {
     "name": "stderr",
     "output_type": "stream",
     "text": [
      "\n",
      "[notice] A new release of pip available: 22.3 -> 24.3.1\n",
      "[notice] To update, run: python.exe -m pip install --upgrade pip\n"
     ]
    }
   ],
   "source": [
    "pip install --upgrade ragas\n"
   ]
  },
  {
   "cell_type": "code",
   "execution_count": null,
   "id": "4fb1532c-6a6c-4c9f-881a-e6d8f89a780a",
   "metadata": {},
   "outputs": [],
   "source": []
  }
 ],
 "metadata": {
  "kernelspec": {
   "display_name": "Python 3 (ipykernel)",
   "language": "python",
   "name": "python3"
  },
  "language_info": {
   "codemirror_mode": {
    "name": "ipython",
    "version": 3
   },
   "file_extension": ".py",
   "mimetype": "text/x-python",
   "name": "python",
   "nbconvert_exporter": "python",
   "pygments_lexer": "ipython3",
   "version": "3.11.0"
  }
 },
 "nbformat": 4,
 "nbformat_minor": 5
}
