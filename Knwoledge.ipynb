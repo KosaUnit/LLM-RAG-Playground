{
 "cells": [
  {
   "cell_type": "markdown",
   "id": "41efce88-4787-4a84-aec4-eca7eac95892",
   "metadata": {},
   "source": [
    "### Loading Data"
   ]
  },
  {
   "cell_type": "markdown",
   "id": "b83732ef-4781-488a-b664-92b539625ec1",
   "metadata": {},
   "source": [
    "### Buildng index"
   ]
  },
  {
   "cell_type": "markdown",
   "id": "e9176dcb-a92e-4bfd-8b8f-8b0685691fca",
   "metadata": {},
   "source": [
    "### Storying index"
   ]
  },
  {
   "cell_type": "markdown",
   "id": "89c8bc57-889f-4d37-bb9c-a9ad982ed255",
   "metadata": {},
   "source": [
    "### Querying\n",
    "\n",
    "https://docs.llamaindex.ai/en/stable/understanding/querying/querying/\n",
    "\n",
    "At its simplest, querying is just a prompt call to an LLM: it can be a question and get an answer, or a request for summarization, or a much more complex instruction.\n",
    "\n",
    "*The basis of all querying is the QueryEngine.* --- explain\n",
    "\n",
    "Querying consists of three distinct stages:\n",
    "- Retrieval is when you find and return the most relevant documents for your query from your Index. As previously discussed in indexing, the most common type of retrieval is \"top-k\" semantic retrieval, but there are many other retrieval strategies.\n",
    "- Postprocessing is when the Nodes retrieved are optionally reranked, transformed, or filtered, for instance by requiring that they have specific metadata such as keywords attached.\n",
    "- Response synthesis is when your query, your most-relevant data and your prompt are combined and sent to your LLM to return a response."
   ]
  },
  {
   "cell_type": "markdown",
   "id": "b95ab902-1612-411e-8ef0-001f99cfa7a4",
   "metadata": {},
   "source": [
    "#### Retriver - https://docs.llamaindex.ai/en/stable/module_guides/querying/retriever/"
   ]
  },
  {
   "cell_type": "code",
   "execution_count": null,
   "id": "f38cc3f7-062a-4007-85d9-e34fe98724b0",
   "metadata": {},
   "outputs": [],
   "source": []
  }
 ],
 "metadata": {
  "kernelspec": {
   "display_name": "Python 3 (ipykernel)",
   "language": "python",
   "name": "python3"
  },
  "language_info": {
   "codemirror_mode": {
    "name": "ipython",
    "version": 3
   },
   "file_extension": ".py",
   "mimetype": "text/x-python",
   "name": "python",
   "nbconvert_exporter": "python",
   "pygments_lexer": "ipython3",
   "version": "3.11.0"
  }
 },
 "nbformat": 4,
 "nbformat_minor": 5
}
