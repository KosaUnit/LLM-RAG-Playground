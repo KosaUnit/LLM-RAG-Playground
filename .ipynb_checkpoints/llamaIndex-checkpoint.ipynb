{
 "cells": [
  {
   "cell_type": "code",
   "execution_count": 12,
   "id": "1afb28a4-88aa-439f-ba78-503629d3596c",
   "metadata": {},
   "outputs": [
    {
     "data": {
      "text/plain": [
       "True"
      ]
     },
     "execution_count": 12,
     "metadata": {},
     "output_type": "execute_result"
    }
   ],
   "source": [
    "import os\n",
    "from dotenv import load_dotenv\n",
    "from llama_index.llms.azure_openai import AzureOpenAI\n",
    "from llama_index.embeddings.huggingface import HuggingFaceEmbedding\n",
    "from llama_index.core import Settings\n",
    "from llama_index.core import VectorStoreIndex, SimpleDirectoryReader\n",
    "\n",
    "load_dotenv()"
   ]
  },
  {
   "cell_type": "code",
   "execution_count": 9,
   "id": "d5959e14-745f-496e-88f9-139538245f59",
   "metadata": {},
   "outputs": [],
   "source": [
    "AZURE_OPENAI_API_ENDPOINT = os.getenv(\"AZURE_OPENAI_API_ENDPOINT\")\n",
    "AZURE_OPENAI_API_KEY = os.getenv(\"AZURE_OPENAI_API_KEY\")\n",
    "AZURE_OPENAI_API_VERSION = os.getenv(\"AZURE_OPENAI_API_VERSION\")\n",
    "AZURE_GPT_DEPLOYMENT_NAME = os.getenv(\"AZURE_GPT_DEPLOYMENT_NAME\")\n",
    "\n",
    "llm = AzureOpenAI(\n",
    "    deployment_name=AZURE_GPT_DEPLOYMENT_NAME,\n",
    "    api_key=AZURE_OPENAI_API_KEY,\n",
    "    azure_endpoint=AZURE_OPENAI_API_ENDPOINT,\n",
    "    api_version=AZURE_OPENAI_API_VERSION,\n",
    ")\n",
    "\n",
    "embed_model = HuggingFaceEmbedding()"
   ]
  },
  {
   "cell_type": "code",
   "execution_count": 11,
   "id": "27643acd-2490-4014-bc1e-339aa41c9cb4",
   "metadata": {},
   "outputs": [],
   "source": [
    "Settings.llm = llm\n",
    "Settings.embed_model = embed_model"
   ]
  },
  {
   "cell_type": "code",
   "execution_count": 13,
   "id": "657a3263-5e26-451a-91fd-e2f0f41a8bc2",
   "metadata": {},
   "outputs": [],
   "source": [
    "documents = SimpleDirectoryReader(\n",
    "    input_files=[\"aws_pdfs/Quizlet_.docx\"]\n",
    ").load_data()\n",
    "index = VectorStoreIndex.from_documents(documents)"
   ]
  },
  {
   "cell_type": "code",
   "execution_count": 21,
   "id": "5f0bd576-d388-40fc-8a7e-9f87a09ba5e8",
   "metadata": {},
   "outputs": [
    {
     "name": "stdout",
     "output_type": "stream",
     "text": [
      "> Source (Doc id: 3e055d9c-7448-43fb-9560-14a304a89270): AWS security competency partners – specialized consulting partners who can provide inside into be...\n",
      "\n",
      "> Source (Doc id: 229e0b5b-8529-49e5-858d-3a6f0bd69933): Amazon Elastic Container Service (Amazon ECS) – it is a container management system that enables ...\n",
      "\n",
      "query was: What is AWS Lambda?\n",
      "\n",
      "answer was: AWS Lambda is a serverless compute service that allows you to run code in response to events without provisioning or managing servers. You can execute your code in response to triggers such as changes in data, shifts in system state, or user actions, enabling you to build applications that automatically respond to events.\n"
     ]
    }
   ],
   "source": [
    "query = \"What is AWS Lambda?\"\n",
    "query_engine = index.as_query_engine()\n",
    "answer = query_engine.query(query)\n",
    "\n",
    "print(answer.get_formatted_sources())\n",
    "print('')\n",
    "print(\"query was:\", query)\n",
    "print('')\n",
    "print(\"answer was:\", answer)"
   ]
  },
  {
   "cell_type": "code",
   "execution_count": null,
   "id": "edd06640-a737-4321-897e-f2b5b19f2279",
   "metadata": {},
   "outputs": [],
   "source": []
  }
 ],
 "metadata": {
  "kernelspec": {
   "display_name": "Python 3 (ipykernel)",
   "language": "python",
   "name": "python3"
  },
  "language_info": {
   "codemirror_mode": {
    "name": "ipython",
    "version": 3
   },
   "file_extension": ".py",
   "mimetype": "text/x-python",
   "name": "python",
   "nbconvert_exporter": "python",
   "pygments_lexer": "ipython3",
   "version": "3.11.0"
  }
 },
 "nbformat": 4,
 "nbformat_minor": 5
}
