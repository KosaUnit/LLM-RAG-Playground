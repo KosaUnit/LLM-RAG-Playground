{
 "cells": [
  {
   "cell_type": "markdown",
   "id": "6bfd8262-7bf1-4198-a5f3-eb0486c53ca9",
   "metadata": {},
   "source": [
    "## LLM App/Project - RAG testing / Text Classification"
   ]
  },
  {
   "cell_type": "markdown",
   "id": "27adbc05-d5ea-4ee8-ace5-b16c1bdfaf49",
   "metadata": {},
   "source": [
    "### Steps: \n",
    "\n",
    "1. ~~Create a chat classifier in lamaindex which based on the provided BBC headline classify it into one of the five news categories.~~\n",
    "2. Using the chat classifier from the first task, add output evaluation - consider a possiblity of adding the way of teaching/improving a chat output based on this information\n",
    "3. Write RAG - add some wiki documents (~ 20 documents) and evaluate the responses\n",
    "4. Experiment with different evaluation metrics\n",
    "5. Experiment with different RAG methodologies and use evaluation metrics to see different results they can provide\n",
    "\n",
    "Possible problems:\n",
    "- Gemini API restriction"
   ]
  },
  {
   "cell_type": "markdown",
   "id": "53f7d890-ced9-4b35-a589-e98376f4c71a",
   "metadata": {},
   "source": [
    "## Chat Classifier"
   ]
  },
  {
   "cell_type": "code",
   "execution_count": 38,
   "id": "6b0d20c1-790d-44d8-aa76-85ec38c446a8",
   "metadata": {},
   "outputs": [],
   "source": [
    "from llama_index.llms.gemini import Gemini\n",
    "from llama_index.core.llms import ChatMessage\n",
    "from dotenv import load_dotenv\n",
    "import os\n",
    "\n",
    "load_dotenv()\n",
    "\n",
    "GOOGLE_API_KEY = os.getenv(\"GEMINI_API_KEY\")\n",
    "\n",
    "llm = Gemini(\n",
    "    model=\"models/gemini-1.5-flash\",\n",
    "    api_key=GOOGLE_API_KEY  # uses GOOGLE_API_KEY env var by default\n",
    ")"
   ]
  },
  {
   "cell_type": "code",
   "execution_count": 39,
   "id": "3713355f-50d1-4267-93f2-4c0a826ccf3c",
   "metadata": {},
   "outputs": [
    {
     "name": "stdout",
     "output_type": "stream",
     "text": [
      "System Response: assistant: Okay, I'm ready. Please provide the headline.\n",
      "\n"
     ]
    }
   ],
   "source": [
    "messages = [\n",
    "    ChatMessage(\n",
    "        role=\"system\",\n",
    "        content=(\n",
    "            \"You are a text classifier specializing in BBC headlines. \"\n",
    "            \"I will provide you with a headline, and you will classify it into one of the following five categories: \"\n",
    "            \"business, entertainment, politics, sport, or tech. \"\n",
    "            \"Choose the category that best fits the headline. If a headline fits multiple categories, select the one most relevant. \"\n",
    "            \"Provide only the category name as the response, without any additional text.\"\n",
    "        )\n",
    "    )\n",
    "]\n",
    "\n",
    "resp = llm.chat(messages)\n",
    "print(f\"System Response: {resp}\")\n",
    "\n",
    "# Chat loop \n",
    "while True:\n",
    "    text_input = input(\"User: \")\n",
    "    if text_input.lower() == \"exit\":\n",
    "        print(\"Exiting classifier. Goodbye!\")\n",
    "        break\n",
    "    \n",
    "    messages.append(ChatMessage(role=\"user\", content=text_input))\n",
    "\n",
    "    response = str(llm.chat(messages))\n",
    "    messages.append(ChatMessage(role='assistant', content=response))    \n",
    "    print(f\"\\nChat: {response}\\n\")"
   ]
  },
  {
   "cell_type": "markdown",
   "id": "1d765eb0-dcfb-46d9-b2b4-e923e52a289c",
   "metadata": {},
   "source": [
    "## Correctness Evaulator"
   ]
  },
  {
   "cell_type": "code",
   "execution_count": 56,
   "id": "8e0d46d5-9bba-4e9f-8f73-a9aa8fc8799b",
   "metadata": {},
   "outputs": [],
   "source": [
    "from llama_index.core.evaluation import CorrectnessEvaluator\n",
    "from llama_index.llms.gemini import Gemini\n",
    "from llama_index.core.llms import ChatMessage\n",
    "from dotenv import load_dotenv\n",
    "import pandas as pd\n",
    "import random\n",
    "import os\n",
    "\n",
    "load_dotenv()\n",
    "\n",
    "GOOGLE_API_KEY = os.getenv(\"GEMINI_API_KEY\")\n",
    "\n",
    "llm = Gemini(\n",
    "    model=\"models/gemini-1.5-flash\",\n",
    "    api_key=GOOGLE_API_KEY  # uses GOOGLE_API_KEY env var by default\n",
    ")\n",
    "\n",
    "evaluator = CorrectnessEvaluator(llm=llm)\n",
    "\n",
    "# Read Data Frame\n",
    "df = pd.read_csv(r'data\\bbc_data.csv')"
   ]
  },
  {
   "cell_type": "code",
   "execution_count": null,
   "id": "586febc8-8771-4293-9fb7-1e9dc764ab73",
   "metadata": {},
   "outputs": [],
   "source": []
  },
  {
   "cell_type": "code",
   "execution_count": 57,
   "id": "a0f76d87-7235-480d-bf94-775b842b9777",
   "metadata": {},
   "outputs": [],
   "source": [
    "# choose random entity \n",
    "random_index = random.randint(0, len(df))\n",
    "entity = df.iloc[random_index]\n",
    "\n",
    "news = entity.data\n",
    "label = entity.labels"
   ]
  },
  {
   "cell_type": "markdown",
   "id": "990f5cdb-012b-4612-b434-7487fe2b529b",
   "metadata": {},
   "source": [
    "### Play around with deepeval library"
   ]
  },
  {
   "cell_type": "code",
   "execution_count": 79,
   "id": "69881961-3e2a-45c2-9d3a-78e5d577034b",
   "metadata": {},
   "outputs": [],
   "source": [
    "from deepeval.metrics import GEval\n",
    "\n",
    "from deepeval.test_case import LLMTestCase\n",
    "from deepeval.dataset import EvaluationDataset"
   ]
  },
  {
   "cell_type": "code",
   "execution_count": 80,
   "id": "0fe196c1-1b2a-494a-9f51-23bbcca00e19",
   "metadata": {},
   "outputs": [],
   "source": [
    "entity = df.iloc[4]\n",
    "\n",
    "news = entity.data\n",
    "label = entity.labels\n",
    "\n",
    "messages = [\n",
    "    ChatMessage(\n",
    "        role=\"system\",\n",
    "        content=(\n",
    "            \"You are a text classifier specializing in BBC headlines. \"\n",
    "            \"I will provide you with a headline, and you will classify it into one of the following five categories: \"\n",
    "            \"business, entertainment, politics, sport, or tech. \"\n",
    "            \"Choose the category that best fits the headline. If a headline fits multiple categories, select the one most relevant. \"\n",
    "            \"Provide only the category name as the response, without any additional text.\"\n",
    "        )\n",
    "    )\n",
    "]\n",
    "\n",
    "messages.append(ChatMessage(role=\"user\", content=news))\n",
    "ouput = str(llm.chat(messages))"
   ]
  },
  {
   "cell_type": "code",
   "execution_count": 82,
   "id": "16d282d8-3343-4321-8cc7-4555a051cae5",
   "metadata": {},
   "outputs": [],
   "source": [
    "# Test Case with a correctness score of 1 (complete alignment with expected output)\n",
    "first_test_case = LLMTestCase(input=news,\n",
    "                              actual_output=ouput,\n",
    "                              expected_output=label)\n",
    "\n",
    "# Test Case with a correctness score of 0.5 (partial alignment with expected output)\n",
    "second_test_case = LLMTestCase(input=news,\n",
    "                               actual_output=ouput,\n",
    "                               expected_output=label)\n",
    "\n",
    "# Test Case with a correctness score of 0 (no meaningful alignment with expected output)\n",
    "third_test_case = LLMTestCase(input=news,\n",
    "                              actual_output=ouput,\n",
    "                              expected_output=label)\n",
    "\n",
    "test_cases = [first_test_case, second_test_case, third_test_case]\n",
    "\n",
    "dataset = EvaluationDataset(test_cases=test_cases)"
   ]
  },
  {
   "cell_type": "code",
   "execution_count": 83,
   "id": "5733f717-99dc-4dfb-a92e-770e7a7aedd9",
   "metadata": {},
   "outputs": [
    {
     "ename": "NameError",
     "evalue": "name 'LLMTestCaseParams' is not defined",
     "output_type": "error",
     "traceback": [
      "\u001b[1;31m---------------------------------------------------------------------------\u001b[0m",
      "\u001b[1;31mNameError\u001b[0m                                 Traceback (most recent call last)",
      "Cell \u001b[1;32mIn[83], line 5\u001b[0m\n\u001b[0;32m      1\u001b[0m correctness_metric \u001b[38;5;241m=\u001b[39m GEval(\n\u001b[0;32m      2\u001b[0m     name\u001b[38;5;241m=\u001b[39m\u001b[38;5;124m\"\u001b[39m\u001b[38;5;124mCorrectness\u001b[39m\u001b[38;5;124m\"\u001b[39m,\n\u001b[0;32m      3\u001b[0m     model\u001b[38;5;241m=\u001b[39m\u001b[38;5;124m\"\u001b[39m\u001b[38;5;124mgemini-1.5-flash\u001b[39m\u001b[38;5;124m\"\u001b[39m,\n\u001b[0;32m      4\u001b[0m     evaluation_params\u001b[38;5;241m=\u001b[39m[\n\u001b[1;32m----> 5\u001b[0m         \u001b[43mLLMTestCaseParams\u001b[49m\u001b[38;5;241m.\u001b[39mEXPECTED_OUTPUT,\n\u001b[0;32m      6\u001b[0m         LLMTestCaseParams\u001b[38;5;241m.\u001b[39mACTUAL_OUTPUT],\n\u001b[0;32m      7\u001b[0m     evaluation_steps\u001b[38;5;241m=\u001b[39m[\n\u001b[0;32m      8\u001b[0m         \u001b[38;5;124m\"\u001b[39m\u001b[38;5;124mDetermine whether the actual output is factually correct based on the expected output.\u001b[39m\u001b[38;5;124m\"\u001b[39m\n\u001b[0;32m      9\u001b[0m     ],\n\u001b[0;32m     10\u001b[0m )\n",
      "\u001b[1;31mNameError\u001b[0m: name 'LLMTestCaseParams' is not defined"
     ]
    }
   ],
   "source": [
    "correctness_metric = GEval(\n",
    "    name=\"Correctness\",\n",
    "    model=\"gemini-1.5-flash\",\n",
    "    evaluation_params=[\n",
    "        LLMTestCaseParams.EXPECTED_OUTPUT,\n",
    "        LLMTestCaseParams.ACTUAL_OUTPUT],\n",
    "    evaluation_steps=[\n",
    "        \"Determine whether the actual output is factually correct based on the expected output.\"\n",
    "    ],\n",
    ")"
   ]
  },
  {
   "cell_type": "code",
   "execution_count": null,
   "id": "fe61ae3a-aee1-4507-b44d-a25dfcaca65f",
   "metadata": {},
   "outputs": [],
   "source": []
  }
 ],
 "metadata": {
  "kernelspec": {
   "display_name": "Python 3 (ipykernel)",
   "language": "python",
   "name": "python3"
  },
  "language_info": {
   "codemirror_mode": {
    "name": "ipython",
    "version": 3
   },
   "file_extension": ".py",
   "mimetype": "text/x-python",
   "name": "python",
   "nbconvert_exporter": "python",
   "pygments_lexer": "ipython3",
   "version": "3.11.0"
  }
 },
 "nbformat": 4,
 "nbformat_minor": 5
}
